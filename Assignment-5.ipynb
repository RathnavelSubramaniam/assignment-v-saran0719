{
 "cells": [
  {
   "cell_type": "code",
   "execution_count": 1,
   "id": "3e88d9b4",
   "metadata": {},
   "outputs": [],
   "source": [
    "from ISLP import load_data\n",
    "import pandas as pd\n",
    "import numpy as np\n",
    "from sklearn.linear_model import LinearRegression, RidgeCV, LassoCV\n",
    "from sklearn.metrics import mean_squared_error\n",
    "from mlxtend.feature_selection import SequentialFeatureSelector as SFS\n",
    "from sklearn.preprocessing import StandardScaler\n",
    "from sklearn.decomposition import PCA\n",
    "import matplotlib.pyplot as plt"
   ]
  },
  {
   "cell_type": "code",
   "execution_count": 2,
   "id": "7050e3bb",
   "metadata": {},
   "outputs": [],
   "source": [
    "college = load_data('College')\n",
    "df = college.copy()"
   ]
  },
  {
   "cell_type": "code",
   "execution_count": 3,
   "id": "e5cfb8cd",
   "metadata": {},
   "outputs": [],
   "source": [
    "y = df['Apps']\n",
    "X = df.drop(columns=['Apps'])"
   ]
  },
  {
   "cell_type": "code",
   "execution_count": 8,
   "id": "ae4a79ff",
   "metadata": {},
   "outputs": [],
   "source": [
    "# Convert categorical columns to numeric (e.g., Private -> 0/1)\n",
    "X = pd.get_dummies(X, drop_first=True)\n",
    "\n",
    "# Standardize numeric predictors\n",
    "scaler = StandardScaler()\n",
    "X_scaled = scaler.fit_transform(X)\n"
   ]
  },
  {
   "cell_type": "code",
   "execution_count": 9,
   "id": "b13455e7",
   "metadata": {},
   "outputs": [
    {
     "name": "stdout",
     "output_type": "stream",
     "text": [
      "Forward Selection Best Features:\n",
      "['Accept', 'Top10perc', 'Outstate', 'Room.Board', 'PhD', 'S.F.Ratio', 'Expend', 'Grad.Rate']\n"
     ]
    }
   ],
   "source": [
    "lr = LinearRegression()\n",
    "sfs_forward = SFS(lr, \n",
    "                  k_features='best', \n",
    "                  forward=True, \n",
    "                  floating=False, \n",
    "                  scoring='neg_mean_squared_error',\n",
    "                  cv=5)\n",
    "sfs_forward = sfs_forward.fit(X, y)\n",
    "\n",
    "print(\"Forward Selection Best Features:\")\n",
    "print(list(sfs_forward.k_feature_names_))"
   ]
  },
  {
   "cell_type": "code",
   "execution_count": 12,
   "id": "706eb507",
   "metadata": {},
   "outputs": [
    {
     "name": "stdout",
     "output_type": "stream",
     "text": [
      "\n",
      "Best alpha for Ridge: 0.001\n",
      "Ridge RMSE: 1029.21\n"
     ]
    }
   ],
   "source": [
    "alphas = np.logspace(-3, 3, 100)\n",
    "ridge_cv = RidgeCV(alphas=alphas, store_cv_results=True)\n",
    "ridge_cv.fit(X_scaled, y)\n",
    "print(f\"\\nBest alpha for Ridge: {ridge_cv.alpha_}\")\n",
    "print(f\"Ridge RMSE: {np.sqrt(mean_squared_error(y, ridge_cv.predict(X_scaled))):.2f}\")"
   ]
  },
  {
   "cell_type": "code",
   "execution_count": 13,
   "id": "68ba34b0",
   "metadata": {},
   "outputs": [
    {
     "name": "stderr",
     "output_type": "stream",
     "text": [
      "c:\\Users\\Hi\\AppData\\Local\\Programs\\Python\\Python313\\Lib\\site-packages\\sklearn\\linear_model\\_coordinate_descent.py:1632: FutureWarning: 'alphas=None' is deprecated and will be removed in 1.9, at which point the default value will be set to 100. Set 'alphas=100' to silence this warning.\n",
      "  warnings.warn(\n"
     ]
    },
    {
     "name": "stdout",
     "output_type": "stream",
     "text": [
      "\n",
      "Best alpha for Lasso: 11.1434986141217\n",
      "Lasso Selected Features:\n",
      "Accept         3721.093517\n",
      "Enroll         -376.468368\n",
      "Top10perc       733.367849\n",
      "Top25perc      -156.851641\n",
      "P.Undergrad      59.702470\n",
      "Outstate       -292.365921\n",
      "Room.Board      152.236155\n",
      "Personal         12.053395\n",
      "PhD            -117.686244\n",
      "Terminal        -44.563066\n",
      "S.F.Ratio        40.674783\n",
      "perc.alumni      -7.119672\n",
      "Expend          383.791103\n",
      "Grad.Rate       116.128180\n",
      "Private_Yes    -210.663108\n",
      "dtype: float64\n"
     ]
    }
   ],
   "source": [
    "lasso_cv = LassoCV(alphas=None, cv=5, max_iter=10000)\n",
    "lasso_cv.fit(X_scaled, y)\n",
    "lasso_coef = pd.Series(lasso_cv.coef_, index=X.columns)\n",
    "print(f\"\\nBest alpha for Lasso: {lasso_cv.alpha_}\")\n",
    "print(\"Lasso Selected Features:\")\n",
    "print(lasso_coef[lasso_coef != 0])"
   ]
  },
  {
   "cell_type": "code",
   "execution_count": 14,
   "id": "b0b81218",
   "metadata": {},
   "outputs": [
    {
     "data": {
      "image/png": "[encoded data removed]",
      "text/plain": [
       "<Figure size 640x480 with 1 Axes>"
      ]
     },
     "metadata": {},
     "output_type": "display_data"
    },
    {
     "name": "stdout",
     "output_type": "stream",
     "text": [
      "\n",
      "Best number of PCs: 17\n",
      "PCR RMSE: 1029.21\n"
     ]
    }
   ],
   "source": [
    "pca = PCA()\n",
    "X_pca = pca.fit_transform(X_scaled)\n",
    "\n",
    "mse = []\n",
    "for i in range(1, X_pca.shape[1]+1):\n",
    "    lr_pcr = LinearRegression()\n",
    "    lr_pcr.fit(X_pca[:, :i], y)\n",
    "    y_pred = lr_pcr.predict(X_pca[:, :i])\n",
    "    mse.append(mean_squared_error(y, y_pred))\n",
    "\n",
    "plt.plot(range(1, len(mse)+1), mse)\n",
    "plt.xlabel('Number of Principal Components')\n",
    "plt.ylabel('MSE')\n",
    "plt.title('PCR - MSE vs Components')\n",
    "plt.show()\n",
    "\n",
    "best_pcs = np.argmin(mse) + 1\n",
    "print(f\"\\nBest number of PCs: {best_pcs}\")\n",
    "print(f\"PCR RMSE: {np.sqrt(min(mse)):.2f}\")"
   ]
  },
  {
   "cell_type": "code",
   "execution_count": 15,
   "id": "2b555434",
   "metadata": {},
   "outputs": [
    {
     "name": "stdout",
     "output_type": "stream",
     "text": [
      "\n",
      "--- Summary ---\n",
      "Forward Selection chose 8 features.\n",
      "Lasso chose 15 features.\n",
      "→ Ridge uses all features (since it shrinks coefficients, not eliminate them).\n",
      "→ PCR reduces dimensionality, using only top principal components.\n",
      "\n",
      "✅ Conclusion:\n",
      "The best model depends on cross-validation MSE, but Lasso often gives a sparse model.\n",
      "Hence, not all features are required — Lasso and PCR automatically reduce dimensions.\n"
     ]
    }
   ],
   "source": [
    "print(\"\\n--- Summary ---\")\n",
    "print(f\"Forward Selection chose {len(sfs_forward.k_feature_names_)} features.\")\n",
    "print(f\"Lasso chose {sum(lasso_coef != 0)} features.\")\n",
    "print(\"→ Ridge uses all features (since it shrinks coefficients, not eliminate them).\")\n",
    "print(\"→ PCR reduces dimensionality, using only top principal components.\")\n",
    "\n",
    "print(\"\\n✅ Conclusion:\")\n",
    "print(\"The best model depends on cross-validation MSE, but Lasso often gives a sparse model.\")\n",
    "print(\"Hence, not all features are required — Lasso and PCR automatically reduce dimensions.\")\n"
   ]
  }
 ],
 "metadata": {
  "kernelspec": {
   "display_name": "Python 3",
   "language": "python",
   "name": "python3"
  },
  "language_info": {
   "codemirror_mode": {
    "name": "ipython",
    "version": 3
   },
   "file_extension": ".py",
   "mimetype": "text/x-python",
   "name": "python",
   "nbconvert_exporter": "python",
   "pygments_lexer": "ipython3",
   "version": "3.13.1"
  }
 },
 "nbformat": 4,
 "nbformat_minor": 5
}
